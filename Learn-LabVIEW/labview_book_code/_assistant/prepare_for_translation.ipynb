{
 "cells": [
  {
   "cell_type": "code",
   "execution_count": 7,
   "id": "c55fcb2c",
   "metadata": {},
   "outputs": [],
   "source": [
    "import os\n",
    "\n",
    "doc_path = r\"../../i18n/en/docusaurus-plugin-content-docs/current/\"\n",
    "\n",
    "md_files = [f for f in os.listdir(doc_path) if os.path.isfile(os.path.join(doc_path, f))]\n",
    "\n",
    "for md in md_files:\n",
    "    md_bak = md + \".bak\"\n",
    "    os.rename(os.path.join(doc_path, md), os.path.join(doc_path, md_bak)) \n",
    "    with open(os.path.join(doc_path, md_bak), \"r\", encoding='utf-8') as r:\n",
    "        with open(os.path.join(doc_path, md), \"w\", encoding='utf-8') as w:\n",
    "            first_line = r.readline()\n",
    "            w.write(first_line)\n",
    "            w.write(\"\\n\")\n",
    "            w.write(\"Translations will be coming soon ......\")\n",
    "\n",
    "# with open(r'..\\..\\i18n\\en\\docusaurus-plugin-content-docs\\current\\README.md', encoding=\"utf-8\") as f:\n",
    "#     for line in f:\n",
    "#         print(line)\n",
    "#         break"
   ]
  },
  {
   "cell_type": "code",
   "execution_count": 9,
   "id": "ae2ba378",
   "metadata": {},
   "outputs": [],
   "source": [
    "import glob\n",
    "import os\n",
    "\n",
    "# Pattern to match .bak files\n",
    "pattern = \"*.bak\"\n",
    "\n",
    "# Joining the folder path and pattern\n",
    "search_pattern = os.path.join(doc_path, pattern)\n",
    "\n",
    "# List all .bak files\n",
    "bak_files = glob.glob(search_pattern)\n",
    "\n",
    "for file in bak_files:\n",
    "    os.remove(file)"
   ]
  },
  {
   "cell_type": "code",
   "execution_count": null,
   "id": "af7a0567",
   "metadata": {},
   "outputs": [],
   "source": []
  }
 ],
 "metadata": {
  "kernelspec": {
   "display_name": "Python 3 (ipykernel)",
   "language": "python",
   "name": "python3"
  },
  "language_info": {
   "codemirror_mode": {
    "name": "ipython",
    "version": 3
   },
   "file_extension": ".py",
   "mimetype": "text/x-python",
   "name": "python",
   "nbconvert_exporter": "python",
   "pygments_lexer": "ipython3",
   "version": "3.9.5"
  }
 },
 "nbformat": 4,
 "nbformat_minor": 5
}
